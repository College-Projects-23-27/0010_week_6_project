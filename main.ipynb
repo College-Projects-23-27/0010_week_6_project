{
 "cells": [
  {
   "cell_type": "code",
   "execution_count": 24,
   "metadata": {},
   "outputs": [
    {
     "name": "stdout",
     "output_type": "stream",
     "text": [
      "Brit Brit Brit Brit Brit Brit Brit Brit Brit Brit \n"
     ]
    }
   ],
   "source": [
    "name = input(\"Enter a name: \")\n",
    "\n",
    "number = input(\"Number of Times: \")\n",
    "while not number.isnumeric():\n",
    "    number = input(\"Please enter a number: \")\n",
    "\n",
    "\n",
    "string = \"\"\n",
    "for i in range(0, int(number)):\n",
    "    string += name + \" \"\n",
    "print(string)"
   ]
  }
 ],
 "metadata": {
  "kernelspec": {
   "display_name": "Python 3",
   "language": "python",
   "name": "python3"
  },
  "language_info": {
   "codemirror_mode": {
    "name": "ipython",
    "version": 3
   },
   "file_extension": ".py",
   "mimetype": "text/x-python",
   "name": "python",
   "nbconvert_exporter": "python",
   "pygments_lexer": "ipython3",
   "version": "3.10.7"
  },
  "orig_nbformat": 4
 },
 "nbformat": 4,
 "nbformat_minor": 2
}
